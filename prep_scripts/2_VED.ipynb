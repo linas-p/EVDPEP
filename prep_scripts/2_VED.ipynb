{
 "cells": [
  {
   "cell_type": "code",
   "execution_count": 1,
   "metadata": {},
   "outputs": [],
   "source": [
    "import pandas as pd\n",
    "import numpy as np"
   ]
  },
  {
   "cell_type": "code",
   "execution_count": 2,
   "metadata": {},
   "outputs": [
    {
     "data": {
      "text/html": [
       "<div>\n",
       "<style scoped>\n",
       "    .dataframe tbody tr th:only-of-type {\n",
       "        vertical-align: middle;\n",
       "    }\n",
       "\n",
       "    .dataframe tbody tr th {\n",
       "        vertical-align: top;\n",
       "    }\n",
       "\n",
       "    .dataframe thead th {\n",
       "        text-align: right;\n",
       "    }\n",
       "</style>\n",
       "<table border=\"1\" class=\"dataframe\">\n",
       "  <thead>\n",
       "    <tr style=\"text-align: right;\">\n",
       "      <th></th>\n",
       "      <th>Unnamed: 0</th>\n",
       "      <th>trip_id</th>\n",
       "      <th>trip_segmentno</th>\n",
       "      <th>segmentkey</th>\n",
       "      <th>segmentid</th>\n",
       "      <th>speed</th>\n",
       "      <th>meters_driven</th>\n",
       "      <th>seconds</th>\n",
       "      <th>air_temperature</th>\n",
       "      <th>wind_direction</th>\n",
       "      <th>...</th>\n",
       "      <th>tertiary_link</th>\n",
       "      <th>track</th>\n",
       "      <th>trunk</th>\n",
       "      <th>trunk_link</th>\n",
       "      <th>unclassified</th>\n",
       "      <th>unpaved</th>\n",
       "      <th>speed_avg_week</th>\n",
       "      <th>speed_avg_time</th>\n",
       "      <th>speed_avg_week_time</th>\n",
       "      <th>speed_avg</th>\n",
       "    </tr>\n",
       "  </thead>\n",
       "  <tbody>\n",
       "    <tr>\n",
       "      <th>0</th>\n",
       "      <td>0</td>\n",
       "      <td>554</td>\n",
       "      <td>-1</td>\n",
       "      <td>-1</td>\n",
       "      <td>-1</td>\n",
       "      <td>63.349998</td>\n",
       "      <td>-1</td>\n",
       "      <td>0.0</td>\n",
       "      <td>11.5</td>\n",
       "      <td>230</td>\n",
       "      <td>...</td>\n",
       "      <td>0</td>\n",
       "      <td>0</td>\n",
       "      <td>0</td>\n",
       "      <td>0</td>\n",
       "      <td>0</td>\n",
       "      <td>0</td>\n",
       "      <td>45.31759</td>\n",
       "      <td>50.505328</td>\n",
       "      <td>47.055879</td>\n",
       "      <td>46.446291</td>\n",
       "    </tr>\n",
       "    <tr>\n",
       "      <th>1</th>\n",
       "      <td>1</td>\n",
       "      <td>554</td>\n",
       "      <td>-1</td>\n",
       "      <td>-1</td>\n",
       "      <td>-1</td>\n",
       "      <td>64.809998</td>\n",
       "      <td>-1</td>\n",
       "      <td>0.0</td>\n",
       "      <td>11.5</td>\n",
       "      <td>230</td>\n",
       "      <td>...</td>\n",
       "      <td>0</td>\n",
       "      <td>0</td>\n",
       "      <td>0</td>\n",
       "      <td>0</td>\n",
       "      <td>0</td>\n",
       "      <td>0</td>\n",
       "      <td>45.31759</td>\n",
       "      <td>50.505328</td>\n",
       "      <td>47.055879</td>\n",
       "      <td>46.446291</td>\n",
       "    </tr>\n",
       "    <tr>\n",
       "      <th>2</th>\n",
       "      <td>2</td>\n",
       "      <td>554</td>\n",
       "      <td>-1</td>\n",
       "      <td>-1</td>\n",
       "      <td>-1</td>\n",
       "      <td>50.369999</td>\n",
       "      <td>-1</td>\n",
       "      <td>0.0</td>\n",
       "      <td>11.5</td>\n",
       "      <td>230</td>\n",
       "      <td>...</td>\n",
       "      <td>0</td>\n",
       "      <td>0</td>\n",
       "      <td>0</td>\n",
       "      <td>0</td>\n",
       "      <td>0</td>\n",
       "      <td>0</td>\n",
       "      <td>45.31759</td>\n",
       "      <td>50.505328</td>\n",
       "      <td>47.055879</td>\n",
       "      <td>46.446291</td>\n",
       "    </tr>\n",
       "    <tr>\n",
       "      <th>3</th>\n",
       "      <td>3</td>\n",
       "      <td>554</td>\n",
       "      <td>-1</td>\n",
       "      <td>-1</td>\n",
       "      <td>-1</td>\n",
       "      <td>61.669998</td>\n",
       "      <td>-1</td>\n",
       "      <td>0.0</td>\n",
       "      <td>11.5</td>\n",
       "      <td>230</td>\n",
       "      <td>...</td>\n",
       "      <td>0</td>\n",
       "      <td>0</td>\n",
       "      <td>0</td>\n",
       "      <td>0</td>\n",
       "      <td>0</td>\n",
       "      <td>0</td>\n",
       "      <td>45.31759</td>\n",
       "      <td>50.505328</td>\n",
       "      <td>47.055879</td>\n",
       "      <td>46.446291</td>\n",
       "    </tr>\n",
       "    <tr>\n",
       "      <th>4</th>\n",
       "      <td>4</td>\n",
       "      <td>554</td>\n",
       "      <td>-1</td>\n",
       "      <td>-1</td>\n",
       "      <td>-1</td>\n",
       "      <td>54.059998</td>\n",
       "      <td>-1</td>\n",
       "      <td>0.0</td>\n",
       "      <td>11.5</td>\n",
       "      <td>230</td>\n",
       "      <td>...</td>\n",
       "      <td>0</td>\n",
       "      <td>0</td>\n",
       "      <td>0</td>\n",
       "      <td>0</td>\n",
       "      <td>0</td>\n",
       "      <td>0</td>\n",
       "      <td>45.31759</td>\n",
       "      <td>50.505328</td>\n",
       "      <td>47.055879</td>\n",
       "      <td>46.446291</td>\n",
       "    </tr>\n",
       "  </tbody>\n",
       "</table>\n",
       "<p>5 rows × 44 columns</p>\n",
       "</div>"
      ],
      "text/plain": [
       "   Unnamed: 0  trip_id  trip_segmentno  segmentkey  segmentid      speed  \\\n",
       "0           0      554              -1          -1         -1  63.349998   \n",
       "1           1      554              -1          -1         -1  64.809998   \n",
       "2           2      554              -1          -1         -1  50.369999   \n",
       "3           3      554              -1          -1         -1  61.669998   \n",
       "4           4      554              -1          -1         -1  54.059998   \n",
       "\n",
       "   meters_driven  seconds  air_temperature wind_direction  ...  tertiary_link  \\\n",
       "0             -1      0.0             11.5            230  ...              0   \n",
       "1             -1      0.0             11.5            230  ...              0   \n",
       "2             -1      0.0             11.5            230  ...              0   \n",
       "3             -1      0.0             11.5            230  ...              0   \n",
       "4             -1      0.0             11.5            230  ...              0   \n",
       "\n",
       "   track  trunk  trunk_link  unclassified  unpaved  speed_avg_week  \\\n",
       "0      0      0           0             0        0        45.31759   \n",
       "1      0      0           0             0        0        45.31759   \n",
       "2      0      0           0             0        0        45.31759   \n",
       "3      0      0           0             0        0        45.31759   \n",
       "4      0      0           0             0        0        45.31759   \n",
       "\n",
       "   speed_avg_time  speed_avg_week_time  speed_avg  \n",
       "0       50.505328            47.055879  46.446291  \n",
       "1       50.505328            47.055879  46.446291  \n",
       "2       50.505328            47.055879  46.446291  \n",
       "3       50.505328            47.055879  46.446291  \n",
       "4       50.505328            47.055879  46.446291  \n",
       "\n",
       "[5 rows x 44 columns]"
      ]
     },
     "execution_count": 2,
     "metadata": {},
     "output_type": "execute_result"
    }
   ],
   "source": [
    "d1 = pd.read_csv(\"2_VED_orig_data.csv\")\n",
    "d1.head()"
   ]
  },
  {
   "cell_type": "code",
   "execution_count": 3,
   "metadata": {},
   "outputs": [
    {
     "data": {
      "text/plain": [
       "(Index(['Unnamed: 0', 'trip_id', 'trip_segmentno', 'segmentkey', 'segmentid',\n",
       "        'speed', 'meters_driven', 'seconds', 'air_temperature',\n",
       "        'wind_direction', 'wind_speed_ms', 'segangle', 'speed_limit', 'none',\n",
       "        'snow', 'thunder', 'fog', 'drifting', 'wet', 'dry', 'freezing',\n",
       "        'ev_kwh', 'weekend', 'time', 'living_street', 'motorway',\n",
       "        'motorway_link', 'primary', 'primary_link', 'residential', 'secondary',\n",
       "        'secondary_link', 'service', 'tertiary', 'tertiary_link', 'track',\n",
       "        'trunk', 'trunk_link', 'unclassified', 'unpaved', 'speed_avg_week',\n",
       "        'speed_avg_time', 'speed_avg_week_time', 'speed_avg'],\n",
       "       dtype='object'),\n",
       " (19348, 44))"
      ]
     },
     "execution_count": 3,
     "metadata": {},
     "output_type": "execute_result"
    }
   ],
   "source": [
    "d1.columns, d1.shape"
   ]
  },
  {
   "cell_type": "code",
   "execution_count": 4,
   "metadata": {},
   "outputs": [
    {
     "data": {
      "text/plain": [
       "482"
      ]
     },
     "execution_count": 4,
     "metadata": {},
     "output_type": "execute_result"
    }
   ],
   "source": [
    "trips = np.unique(d1['trip_id'])\n",
    "len(trips)"
   ]
  },
  {
   "cell_type": "code",
   "execution_count": 5,
   "metadata": {},
   "outputs": [],
   "source": [
    "trips = np.unique(d1['trip_id'])\n",
    "trips_tr = trips[:300]\n",
    "trips_te = trips[300:]\n",
    "tr = []\n",
    "te = []\n",
    "for j in range(d1.shape[0]):\n",
    "    if d1['trip_id'][j] in trips_tr:\n",
    "        tr.append(d1['trip_id'][j])\n",
    "    else:\n",
    "        te.append(d1['trip_id'][j])\n",
    "#len(trips)\n",
    "train_idx = np.array([x in trips[:300] for x in d1['trip_id'] ])\n",
    "test_idx = np.array([x in trips[300:] for x in d1['trip_id']])\n",
    "train_idx = np.argwhere(train_idx)[:,0]\n",
    "test_idx = np.argwhere(test_idx)[:,0]\n",
    "#sum(train_idx), sum(test_idx)"
   ]
  },
  {
   "cell_type": "code",
   "execution_count": 7,
   "metadata": {},
   "outputs": [
    {
     "data": {
      "text/plain": [
       "(74951646, 112211232)"
      ]
     },
     "execution_count": 7,
     "metadata": {},
     "output_type": "execute_result"
    }
   ],
   "source": [
    "sum(train_idx), sum(test_idx)"
   ]
  },
  {
   "cell_type": "code",
   "execution_count": 8,
   "metadata": {},
   "outputs": [
    {
     "data": {
      "text/plain": [
       "(12244, 7104)"
      ]
     },
     "execution_count": 8,
     "metadata": {},
     "output_type": "execute_result"
    }
   ],
   "source": [
    "len(tr),len(te)"
   ]
  },
  {
   "cell_type": "code",
   "execution_count": 10,
   "metadata": {},
   "outputs": [],
   "source": [
    "X_labels = ['speed', 'speed_limit', 'speed_avg_week', 'speed_avg_time', 'speed_avg_week_time', 'speed_avg',\n",
    "            'seconds', 'air_temperature',\n",
    "       'wind_direction', 'wind_speed_ms', 'segangle',  \n",
    "       'time', 'weekend',\n",
    "       'drifting', 'dry', 'fog', 'freezing', 'none', 'snow', 'thunder', 'wet', \n",
    "        'living_street', 'motorway', 'motorway_link', 'primary', 'residential', \n",
    "       'secondary', 'secondary_link', 'service', 'tertiary', \n",
    "       'track', 'trunk', 'trunk_link', 'unclassified', 'unpaved']\n",
    "y_labels = ['trip_id', 'trip_segmentno', 'segmentkey',\n",
    "       'segmentid', 'ev_kwh']"
   ]
  },
  {
   "cell_type": "code",
   "execution_count": 43,
   "metadata": {},
   "outputs": [],
   "source": [
    "d1.loc[train_idx, X_labels].to_csv(\"X_train_VED.csv\", index=False)\n",
    "d1.loc[train_idx, y_labels].to_csv(\"y_train_VED.csv\", index=False)\n",
    "\n",
    "d1.loc[test_idx, X_labels].to_csv(\"X_test_VED.csv\", index=False)\n",
    "d1.loc[test_idx, y_labels].to_csv(\"y_test_VED.csv\", index=False)"
   ]
  },
  {
   "cell_type": "code",
   "execution_count": 14,
   "metadata": {},
   "outputs": [
    {
     "data": {
      "text/plain": [
       "(182, 300)"
      ]
     },
     "execution_count": 14,
     "metadata": {},
     "output_type": "execute_result"
    }
   ],
   "source": [
    "tes = d1.loc[train_idx, y_labels]\n",
    "tra = d1.loc[test_idx, y_labels]\n",
    "len(np.unique(tra['trip_id'])), len(np.unique(tes['trip_id']))"
   ]
  },
  {
   "cell_type": "code",
   "execution_count": 15,
   "metadata": {},
   "outputs": [
    {
     "data": {
      "text/plain": [
       "((7104, 5), (12244, 5))"
      ]
     },
     "execution_count": 15,
     "metadata": {},
     "output_type": "execute_result"
    }
   ],
   "source": [
    "tra.shape, tes.shape"
   ]
  },
  {
   "cell_type": "code",
   "execution_count": null,
   "metadata": {},
   "outputs": [],
   "source": [
    "12244, 7104"
   ]
  }
 ],
 "metadata": {
  "kernelspec": {
   "display_name": "Python 3",
   "language": "python",
   "name": "python3"
  },
  "language_info": {
   "codemirror_mode": {
    "name": "ipython",
    "version": 3
   },
   "file_extension": ".py",
   "mimetype": "text/x-python",
   "name": "python",
   "nbconvert_exporter": "python",
   "pygments_lexer": "ipython3",
   "version": "3.8.10"
  }
 },
 "nbformat": 4,
 "nbformat_minor": 5
}
